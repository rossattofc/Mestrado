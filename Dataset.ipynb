{
 "cells": [
  {
   "cell_type": "code",
   "execution_count": 1,
   "id": "577e4f95",
   "metadata": {},
   "outputs": [],
   "source": [
    "import os \n",
    "import cv2\n",
    "import numpy as np"
   ]
  },
  {
   "cell_type": "code",
   "execution_count": 2,
   "id": "3f1eb62d",
   "metadata": {},
   "outputs": [],
   "source": [
    "#Local com os dados, a pasta deve conter apenas arquivos do tipo imagens. \n",
    "\n",
    "path = (r'D:\\TesteChapeco') "
   ]
  },
  {
   "cell_type": "code",
   "execution_count": 32,
   "id": "8c499294",
   "metadata": {},
   "outputs": [],
   "source": [
    "#Loop para ler todas as imagens da pasta, converter de RGB para Gray Scale, redimensionar em 64x64 e salvar em um array. \n",
    "\n",
    "training_data = []\n",
    "for img in os.listdir(path):\n",
    "    pic = cv2.imread(os.path.join(path,img))\n",
    "    pic = cv2.cvtColor(pic,cv2.COLOR_BGR2GRAY)\n",
    "    pic = cv2.resize(pic,(64,64))\n",
    "    training_data.append([pic])"
   ]
  },
  {
   "cell_type": "code",
   "execution_count": 33,
   "id": "587da56c",
   "metadata": {},
   "outputs": [],
   "source": [
    "#Converte o array gerado para um array do Numpy e salva em um arquivo.\n",
    "\n",
    "np.save(os.path.join(path,'data1'),np.array(training_data))"
   ]
  },
  {
   "cell_type": "code",
   "execution_count": 34,
   "id": "4798c366",
   "metadata": {},
   "outputs": [],
   "source": [
    "#Carrega o arquivo npy salvo no passo anterior.\n",
    "\n",
    "dataset = np.load(os.path.join(path,'data1.npy'))"
   ]
  },
  {
   "cell_type": "code",
   "execution_count": 35,
   "id": "90066f53",
   "metadata": {},
   "outputs": [],
   "source": [
    "#Inicialmente o array está em 4 dimensões (Número de arquivos, Número de canais da Imagens, 64, 64), onde 64x64 é o tamanho\n",
    "#das imagens atribuido no inicio. A função squeeze remove todas as dimensões de valor 1, transformando o array em 3D.\n",
    "\n",
    "dataset = np.squeeze(dataset)"
   ]
  },
  {
   "cell_type": "code",
   "execution_count": 36,
   "id": "f01dcef8",
   "metadata": {},
   "outputs": [],
   "source": [
    "#Como queremos utilizar séries temporais, precisamos utilizar a função reshape para transformar o array no formato ideal. \n",
    "#Pegando como exemplo o array utilizado no treinamento com 20000 imagens (20000,64,64), vamos transformar essas 20000 imagens\n",
    "#em sequências de 20 imagens cada. Ou seja, temos agora um array 4D em que o número total de amostras foi dividida em 1000 \n",
    "#sequência de 20 imagens cada (1000,20,64,64).\n",
    "\n",
    "dataset = np.reshape(dataset,[1000,20,64,64])"
   ]
  },
  {
   "cell_type": "code",
   "execution_count": 37,
   "id": "7aa547bb",
   "metadata": {},
   "outputs": [],
   "source": [
    "#O último passo é para adequar o formato do dataset para a arquitetura da rede usada. O comando transpose permuta as dimensões\n",
    "#do array, trocando de lugar o número de sequência com o tamanho das sequências (20,1000,64,64).\n",
    "\n",
    "dataset = np.transpose(dataset, (1,0,2,3))"
   ]
  },
  {
   "cell_type": "code",
   "execution_count": 38,
   "id": "c9dfdcdb",
   "metadata": {},
   "outputs": [
    {
     "data": {
      "text/plain": [
       "(20, 700, 64, 64)"
      ]
     },
     "execution_count": 38,
     "metadata": {},
     "output_type": "execute_result"
    }
   ],
   "source": [
    "#Função para verificar se o array está no formato adequado. \n",
    "\n",
    "dataset.shape"
   ]
  },
  {
   "cell_type": "code",
   "execution_count": 39,
   "id": "2b0dbc6d",
   "metadata": {},
   "outputs": [],
   "source": [
    "#Salva o dataset pronto para uso no formato npy. \n",
    "\n",
    "np.save(os.path.join(path,'dataset'),np.array(dataset))"
   ]
  },
  {
   "cell_type": "code",
   "execution_count": null,
   "id": "e2e48597",
   "metadata": {},
   "outputs": [],
   "source": []
  }
 ],
 "metadata": {
  "kernelspec": {
   "display_name": "Python 3 (ipykernel)",
   "language": "python",
   "name": "python3"
  },
  "language_info": {
   "codemirror_mode": {
    "name": "ipython",
    "version": 3
   },
   "file_extension": ".py",
   "mimetype": "text/x-python",
   "name": "python",
   "nbconvert_exporter": "python",
   "pygments_lexer": "ipython3",
   "version": "3.9.12"
  }
 },
 "nbformat": 4,
 "nbformat_minor": 5
}
