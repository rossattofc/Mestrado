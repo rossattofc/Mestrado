{
 "cells": [
  {
   "cell_type": "code",
   "execution_count": 38,
   "id": "6640da07",
   "metadata": {},
   "outputs": [],
   "source": [
    "import os\n",
    "import numpy as np"
   ]
  },
  {
   "cell_type": "code",
   "execution_count": 67,
   "id": "3388cd68",
   "metadata": {},
   "outputs": [],
   "source": [
    "predictions = np.load(r'C:\\Users\\mylar\\OneDrive\\Área de Trabalho\\MovingMNIST-main\\Testes\\PredRNN5\\prediction.npy')\n",
    "targets = np.load(r'C:\\Users\\mylar\\OneDrive\\Área de Trabalho\\MovingMNIST-main\\Testes\\PredRNN5\\target.npy')"
   ]
  },
  {
   "cell_type": "code",
   "execution_count": 68,
   "id": "a52074e3",
   "metadata": {},
   "outputs": [],
   "source": [
    "predictions = np.squeeze(predictions)\n",
    "predictions = predictions[:, :10, :, :]"
   ]
  },
  {
   "cell_type": "code",
   "execution_count": 69,
   "id": "767b0146",
   "metadata": {},
   "outputs": [
    {
     "name": "stdout",
     "output_type": "stream",
     "text": [
      "rms error: 0.18891242\n"
     ]
    }
   ],
   "source": [
    "def rmse(predictions, targets):\n",
    "    return np.sqrt(((predictions - targets) ** 2).mean())\n",
    "\n",
    "rmse_val = rmse(targets, predictions)\n",
    "print(\"rms error: \" + str(rmse_val))"
   ]
  },
  {
   "cell_type": "code",
   "execution_count": 35,
   "id": "737e8b50",
   "metadata": {},
   "outputs": [],
   "source": []
  },
  {
   "cell_type": "code",
   "execution_count": 37,
   "id": "ed81ea0e",
   "metadata": {},
   "outputs": [
    {
     "data": {
      "text/plain": [
       "(8, 19, 16, 16, 16)"
      ]
     },
     "execution_count": 37,
     "metadata": {},
     "output_type": "execute_result"
    }
   ],
   "source": []
  },
  {
   "cell_type": "code",
   "execution_count": null,
   "id": "1af5869a",
   "metadata": {},
   "outputs": [],
   "source": []
  }
 ],
 "metadata": {
  "kernelspec": {
   "display_name": "Python 3 (ipykernel)",
   "language": "python",
   "name": "python3"
  },
  "language_info": {
   "codemirror_mode": {
    "name": "ipython",
    "version": 3
   },
   "file_extension": ".py",
   "mimetype": "text/x-python",
   "name": "python",
   "nbconvert_exporter": "python",
   "pygments_lexer": "ipython3",
   "version": "3.9.12"
  }
 },
 "nbformat": 4,
 "nbformat_minor": 5
}
