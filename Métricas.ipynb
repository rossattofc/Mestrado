{
 "cells": [
  {
   "cell_type": "code",
   "execution_count": 10,
   "id": "6640da07",
   "metadata": {},
   "outputs": [],
   "source": [
    "import os\n",
    "import numpy as np"
   ]
  },
  {
   "cell_type": "code",
   "execution_count": 31,
   "id": "3388cd68",
   "metadata": {},
   "outputs": [],
   "source": [
    "#Carrega os arrays gerados na previsão.\n",
    "\n",
    "predictions = np.load(r'C:\\Users\\mylar\\OneDrive\\Área de Trabalho\\PredRNN-Radar\\prediction.npy')\n",
    "targets = np.load(r'C:\\Users\\mylar\\OneDrive\\Área de Trabalho\\PredRNN-Radar\\target.npy')\n",
    "\n",
    "radpredictions = np.load(r'C:\\Users\\mylar\\OneDrive\\Área de Trabalho\\PredRNN-Radar\\rad-prediction.npy')\n",
    "radtargets = np.load(r'C:\\Users\\mylar\\OneDrive\\Área de Trabalho\\PredRNN-Radar\\rad-target.npy')"
   ]
  },
  {
   "cell_type": "code",
   "execution_count": 32,
   "id": "a52074e3",
   "metadata": {},
   "outputs": [],
   "source": [
    "#Seleciona as primeiras 10 imagens previstas para teste.\n",
    "\n",
    "\n",
    "predictions = np.squeeze(predictions)\n",
    "predictions = predictions[:, :10, :, :]\n",
    "\n",
    "\n",
    "radpredictions = np.squeeze(radpredictions)\n",
    "radpredictions = radpredictions[:, :10, :, :]"
   ]
  },
  {
   "cell_type": "code",
   "execution_count": 30,
   "id": "767b0146",
   "metadata": {},
   "outputs": [
    {
     "name": "stdout",
     "output_type": "stream",
     "text": [
      "rmse error: 0.15839641\n"
     ]
    }
   ],
   "source": [
    "#Função para calcular o RMSE (Raiz quadrada do erro-médio).\n",
    "\n",
    "def rmse(predictions, targets):\n",
    "    return np.sqrt(((predictions - targets) ** 2).mean())\n",
    "\n",
    "rmse_val = rmse(targets, predictions)\n",
    "print(\"rmse error: \" + str(rmse_val))"
   ]
  },
  {
   "cell_type": "code",
   "execution_count": 33,
   "id": "9e0753e5",
   "metadata": {},
   "outputs": [
    {
     "name": "stdout",
     "output_type": "stream",
     "text": [
      "rmse error: 0.145034\n"
     ]
    }
   ],
   "source": [
    "def rmse(predictions, targets):\n",
    "    return np.sqrt(((radpredictions - radtargets) ** 2).mean())\n",
    "\n",
    "rmse_val = rmse(radtargets, radpredictions)\n",
    "print(\"rmse error: \" + str(rmse_val))"
   ]
  },
  {
   "cell_type": "code",
   "execution_count": null,
   "id": "e8da0c31",
   "metadata": {},
   "outputs": [],
   "source": []
  }
 ],
 "metadata": {
  "kernelspec": {
   "display_name": "Python 3 (ipykernel)",
   "language": "python",
   "name": "python3"
  },
  "language_info": {
   "codemirror_mode": {
    "name": "ipython",
    "version": 3
   },
   "file_extension": ".py",
   "mimetype": "text/x-python",
   "name": "python",
   "nbconvert_exporter": "python",
   "pygments_lexer": "ipython3",
   "version": "3.9.12"
  }
 },
 "nbformat": 4,
 "nbformat_minor": 5
}
