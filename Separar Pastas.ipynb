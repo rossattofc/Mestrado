{
 "cells": [
  {
   "cell_type": "code",
   "execution_count": 1,
   "id": "67d7d6ba",
   "metadata": {},
   "outputs": [],
   "source": [
    "import os\n",
    "import shutil"
   ]
  },
  {
   "cell_type": "code",
   "execution_count": null,
   "id": "8c7f51df",
   "metadata": {},
   "outputs": [],
   "source": [
    "N = 500  # the number of files in seach subfolder folder\n",
    "\n",
    "\n",
    "def move_files(abs_dirname):\n",
    "    \"\"\"Move files into subdirectories.\"\"\"\n",
    "\n",
    "    files = [os.path.join(abs_dirname, f) for f in os.listdir(abs_dirname)]\n",
    "\n",
    "    i = 0\n",
    "    curr_subdir = None\n",
    "    files.sort()\n",
    "\n",
    "    for f in files:\n",
    "        # create new subdir if necessary\n",
    "        if i % N == 0:\n",
    "            subdir_name = os.path.join(abs_dirname, '{0:03d}'.format(i // N + 1))\n",
    "            os.mkdir(subdir_name)\n",
    "            curr_subdir = subdir_name\n",
    "\n",
    "        # move file to current dir\n",
    "        f_base = os.path.basename(f)\n",
    "        shutil.move(f, os.path.join(subdir_name, f_base))\n",
    "        i += 1"
   ]
  }
 ],
 "metadata": {
  "kernelspec": {
   "display_name": "Python 3 (ipykernel)",
   "language": "python",
   "name": "python3"
  },
  "language_info": {
   "codemirror_mode": {
    "name": "ipython",
    "version": 3
   },
   "file_extension": ".py",
   "mimetype": "text/x-python",
   "name": "python",
   "nbconvert_exporter": "python",
   "pygments_lexer": "ipython3",
   "version": "3.9.12"
  }
 },
 "nbformat": 4,
 "nbformat_minor": 5
}
